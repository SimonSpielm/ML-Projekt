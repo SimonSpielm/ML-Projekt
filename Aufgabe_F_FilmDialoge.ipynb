{
 "cells": [
  {
   "cell_type": "markdown",
   "metadata": {},
   "source": [
    "# Aufgabe-F-FilmDialoge"
   ]
  },
  {
   "cell_type": "markdown",
   "metadata": {},
   "source": [
    "## Allgemeines\n",
    "\n",
    "Eine allgemeine Beschreibung der Laboraufgaben inklusive des Vorgehens, den Bewertungsrichtlinien und der Abgabe finden Sie  <a href=\"ML-allgemein.ipynb\">hier</a>"
   ]
  },
  {
   "attachments": {},
   "cell_type": "markdown",
   "metadata": {},
   "source": [
    "## Datenquelle\n",
    "\n",
    "\n",
    "* Laden Sie ihre Daten von http://141.72.190.207/ml_lab/F_dialoge herunter\n",
    "    * Die Daten sind geschützt. \n",
    "        * Sie müssen evtl. in einem Netzwerk der DHBW (z.B. WLAN, VPN, ...) angemeldet sein. \n",
    "        * Sie können sich auf der Webseite mit dem Benutzernamen dhbw und dem Zugangsnamen \"ml_LaB_4$\" anmelden. \n",
    "* Die Daten sind in einem anwendungsspezifischen Format gespeichert.\n",
    "    * Sie finden evtl. Informationen über die Daten in einer \"README\" Datei. \n",
    "    * Finden Sie keine solche Datei sind die Daten selbst erklärend. \n",
    "    \n",
    "    \n",
    "\n"
   ]
  },
  {
   "cell_type": "markdown",
   "metadata": {},
   "source": [
    "## Aufgabe"
   ]
  },
  {
   "cell_type": "markdown",
   "metadata": {},
   "source": [
    "Die Daten-Sammlung \n",
    "* besteht aus Dialogen aus verschiedensten Filmen\n",
    "* ist in der Readme Datei beschrieben\n",
    "\n",
    "Erstellen Sie aus den einen Chatbot, der auf eine Frage mit einer Antwort im \"Filmjargon\" antwortet! \n",
    "* Verwenden Sie tiefe Neuronale Netze zu Erstellen des Chatbots! \n",
    "* Passen Sie den Chatbot so an, dass er für unterschiedliche Film-Genres unterschiedlich antwortet! \n"
   ]
  },
  {
   "attachments": {},
   "cell_type": "markdown",
   "metadata": {},
   "source": [
    "# Lösung\n",
    "\n",
    "Die Lösung der Aufgabe besteht aus mehreren Teilschritten, welche im Folgenden kurz genannt werden:\n",
    "\n",
    "* Daten einlesen\n",
    "* Daten vorverarbeiten\n",
    "* Model erstellen\n",
    "* Model trainieren\n",
    "* Model abspeichern\n",
    "* Model ausführen\n"
   ]
  },
  {
   "attachments": {},
   "cell_type": "markdown",
   "metadata": {},
   "source": [
    "# Abhängigkeiten des Projekts\n",
    "\n",
    "* Tensorflow 2.8.2"
   ]
  },
  {
   "cell_type": "code",
   "execution_count": 1,
   "metadata": {},
   "outputs": [],
   "source": [
    "import tensorflow as tf\n",
    "import random\n",
    "import re\n",
    "import numpy\n"
   ]
  },
  {
   "attachments": {},
   "cell_type": "markdown",
   "metadata": {},
   "source": [
    "# Eigene Abhängigkeiten des Projekts\n",
    "\n",
    "* "
   ]
  },
  {
   "cell_type": "code",
   "execution_count": 2,
   "metadata": {},
   "outputs": [
    {
     "data": {
      "text/plain": [
       "<module 'data_helper' from 'g:\\\\My Drive\\\\Dokumente\\\\Studium\\\\Theorie\\\\Vorlesungen\\\\Semester 5\\\\Machine Learning\\\\Projekt\\\\src\\\\data_helper.py'>"
      ]
     },
     "execution_count": 2,
     "metadata": {},
     "output_type": "execute_result"
    }
   ],
   "source": [
    "import sys\n",
    "import importlib\n",
    "from pathlib import Path\n",
    "module_path = str(Path.cwd() / \"src\")\n",
    "if module_path not in sys.path:\n",
    "    sys.path.append(module_path)\n",
    "\n",
    "import data_helper as dh\n",
    "\n",
    "importlib.reload(dh)"
   ]
  },
  {
   "attachments": {},
   "cell_type": "markdown",
   "metadata": {},
   "source": [
    "# Daten einlesen\n",
    "\n",
    "Hier werden zuerst die rohen Daten eingelesen und innerhalb der Hilfsfunktion \"readDataToLines\" mit des \"newline\" Zeichen getrennt. Die Daten werden zwei Listen gespeichert, welche dann zurückgegeben werden.\n",
    "Verwendet wurden folgende Funktionen:\n",
    "\n",
    "* \"open\" um die Datei zu öffnen\n",
    "* \"read\" um die Datei zu lesen\n",
    "* \"split\" um die Daten anhand des \"newline\" Zeichen zu trennen und in einer Liste zu speichern"
   ]
  },
  {
   "cell_type": "code",
   "execution_count": 3,
   "metadata": {},
   "outputs": [],
   "source": [
    "# read the data from the files\n",
    "movie_lines, movie_conversations = dh.readDataToLines(\"data/unzipped/movie_lines.txt\", \"data/unzipped/movie_conversations.txt\")"
   ]
  },
  {
   "attachments": {},
   "cell_type": "markdown",
   "metadata": {},
   "source": [
    "# Daten vorverarbeiten"
   ]
  },
  {
   "cell_type": "code",
   "execution_count": 4,
   "metadata": {},
   "outputs": [],
   "source": [
    "# convert the data into a list of conversations\n",
    "from matplotlib import pyplot as plt\n",
    "\n",
    "\n",
    "conversations_list = dh.readConversationsToList(movie_conversations)\n",
    "\n",
    "# create a dictionary that maps each line id to the corresponding line\n",
    "id2line = dh.readLinesToDict(movie_lines)\n",
    "\n",
    "# remove all unnecessary characters from the lines and replace short forms with the full words\n",
    "id2line = dh.cleanLines(id2line)\n",
    "\n",
    "# split the conversations into requests and responses, each answer is used as a request for the next answer\n",
    "request, response = dh.splitConversationsToRequestAndResponse(conversations_list, id2line)\n",
    "\n",
    "# delete temporary variables\n",
    "del(movie_lines, movie_conversations, conversations_list, id2line)\n",
    "\n",
    "# optional: limit the size of the dataset\n",
    "request = request[0:len(request)]\n",
    "response = response[0:len(response)]\n",
    "\n",
    "# optional: limit the size of the answers by word count\n",
    "max_wordcount = 100\n",
    "for i in range(len(response)):\n",
    "    # split the response into words\n",
    "    temp = response[i].split()\n",
    "\n",
    "    # limit the size of the list containing one word per entry to the maximum word count\n",
    "    temp = temp[0:max_wordcount]\n",
    "\n",
    "    # convert the list back to a string, whose word count is limited by the maximum word count\n",
    "    response[i] = \" \".join(temp)\n",
    "\n",
    "# optional: limit the size of the requests by word count\n",
    "max_wordcount = 100\n",
    "for i in range(len(request)):\n",
    "    # split the request into words\n",
    "    temp = request[i].split()\n",
    "\n",
    "    # limit the size of the list containing one word per entry to the maximum word count\n",
    "    temp = temp[0:max_wordcount]\n",
    "\n",
    "    # convert the list back to a string, whose word count is limited by the maximum word count\n",
    "    request[i] = \" \".join(temp)\n",
    "\n",
    "del max_wordcount\n",
    "\n",
    "# get a dictionary of all unique words with their frequency\n",
    "word2count = dh.getWord2Count(request, response)\n",
    "\n",
    "# filter out words with a frequency of 5 or less\n",
    "min_wordFrequency = 5\n",
    "word2count = {k:v for k,v in word2count.items() if v > min_wordFrequency}\n",
    "\n",
    "del(min_wordFrequency)\n",
    "\n",
    "# create a dictionary that maps each word to a unique integer, used in the encoder\n",
    "# tokens: <S> (Start), <E> (End), <N> (Null), <F> (Filler)\n",
    "# add the tokens to the front of the dictionary to optimize searching while shifting the indices of the other words by 4\n",
    "word2index = {}\n",
    "word2index[\"<F>\"] = 0\n",
    "word2index[\"<S>\"] = 1\n",
    "word2index[\"<E>\"] = 2\n",
    "word2index[\"<N>\"] = 3\n",
    "word2index |= {k:v+4 for v,k in enumerate(word2count.keys())} #merge dictionaries\n",
    "# this line of code creates a dictionary word2index by using a dictionary comprehension\n",
    "# the comprehension iterates over the keys of the dictionary word2count and assigns each key a value that is the index of the key plus 4 (the first 4 indices are reserved for the tokens)\n",
    "# v takes the values 0, 1, 2, ... and k takes the values of the keys of the word2count dictionary\n",
    "# the enumerate function generates a sequence of index, value pairs from the keys of the word2count dictionary\n",
    "# the dictionary comprehension creates a new dictionary with the keys from word2count as the keys of word2index and the values of word2index being the index of the keys in word2count plus 4.\n",
    "\n",
    "# invert the dictionary word2index to create a dictionary that maps each integer to a unique word, used in the decoder\n",
    "index2word = {k:v for v,k in word2index.items()}\n",
    "\n",
    "# save the dictionaries to the disk to use them later\n",
    "dh.saveDictionary(word2index, \"data/word2index.dict\")\n",
    "dh.saveDictionary(index2word, \"data/index2word.dict\")\n",
    "\n",
    "# encapsule the requests and responses with the tokens <S> (Start) and <E> (End)\n",
    "request, response = dh.encapsuleWithTokens(request, response, \"<S>\", \"<E>\")\n",
    "\n",
    "del(word2count)\n",
    "\n",
    "inputEncoder = dh.translateToNumeric(request, word2index, \"<N>\")\n",
    "inputDecoder = dh.translateToNumeric(response, word2index, \"<N>\") # what the model should predict = training data, skips the decoding step while training the model\n",
    "\n",
    "del(request, response)\n",
    "\n",
    "\n",
    "\n",
    "\n",
    "\n",
    "\n"
   ]
  },
  {
   "attachments": {},
   "cell_type": "markdown",
   "metadata": {},
   "source": [
    "\n",
    "Durch die teils große Anzahl an Wörtern innerhalb einer Sequenz, wird für die OneHot Encoding sehr viel Speicherplatz benötigt. (ca. 1,6 TB)\n",
    "Um dieses Problem zu lösen, wurden die Sequenzen auf ihre Länge untersucht und die Häufigkeit der verschiedenen Längen in einem Diagramm dargestellt. \n",
    "In diesem lässt sich erkennen, dass Sequenzen mit einer Sequenzlänge von 15 Wörtern und mehr nur sehr selten auftreten. Um die Sequenzen zu kürzen, wurden alle Sequenzen mit einer Länge von 15 Wörtern und mehr auf eine Länge von 15 Wörtern gekürzt. Zusätzlich musste die Menge der Sequenzen auf 30.000 begrenzt werden, da Tensorflow für das OneHot Encoding sonst zu viel Speicher benötigt."
   ]
  },
  {
   "cell_type": "code",
   "execution_count": 5,
   "metadata": {},
   "outputs": [
    {
     "data": {
      "image/png": "[encoded data removed]",
      "text/plain": [
       "<Figure size 640x480 with 1 Axes>"
      ]
     },
     "metadata": {},
     "output_type": "display_data"
    }
   ],
   "source": [
    "# get the length of each line of the requests and save the occurrences in a dictionary\n",
    "lengths = {}\n",
    "for sentence in inputEncoder:\n",
    "    length = len(sentence)\n",
    "    if length in lengths:\n",
    "        lengths[length] += 1\n",
    "    else:\n",
    "        lengths[length] = 1\n",
    "\n",
    "# plot the occurrences of the lengths of the requests\n",
    "plt.bar(lengths.keys(), lengths.values())\n",
    "plt.show()\n",
    "\n",
    "# remove every request and its corresponding response if one of them has more words than 15 \n",
    "inputEncoder, inputDecoder = dh.removeLongSequences(inputEncoder, inputDecoder, 15)\n",
    "\n",
    "# get the maximum length of the requests\n",
    "max_length_request = max([len(x) for x in inputEncoder])\n",
    "# get the maximum length of the responses\n",
    "max_length_response = max([len(x) for x in inputDecoder])\n",
    "# get the maximum length of the requests and responses\n",
    "max_length = max(max_length_request, max_length_response) # (+2 for the tokens <S> and <E>)"
   ]
  },
  {
   "cell_type": "code",
   "execution_count": 6,
   "metadata": {},
   "outputs": [],
   "source": [
    "# use the keras function pad_sequences to pad the requests and responses with zeros (which represent a filling token) to the maximum length\n",
    "inputEncoder = tf.keras.preprocessing.sequence.pad_sequences(inputEncoder, maxlen=max_length, padding=\"post\", truncating=\"post\")\n",
    "inputDecoder = tf.keras.preprocessing.sequence.pad_sequences(inputDecoder, maxlen=max_length, padding=\"post\", truncating=\"post\")\n",
    "\n",
    "# remove start token from decoder input so that the decoder doesn't learn to just copy the start token to each output, don't remove the end token because the decoder should learn when to stop with generating output\n",
    "inputDecoder = inputDecoder[:, 1:]\n",
    "\n",
    "# limit the size of the inputs to 30000\n",
    "inputEncoder = inputEncoder[0:30000]\n",
    "inputDecoder = inputDecoder[0:30000]\n",
    "\n",
    "\n",
    "# convert the decoder input to a one-hot encoded vector which the model can use\n",
    "inputDecoder = tf.keras.utils.to_categorical(inputDecoder, num_classes=len(word2index))"
   ]
  },
  {
   "attachments": {},
   "cell_type": "markdown",
   "metadata": {},
   "source": [
    "# Model erstellen"
   ]
  },
  {
   "attachments": {},
   "cell_type": "markdown",
   "metadata": {},
   "source": [
    "# Model trainieren"
   ]
  },
  {
   "attachments": {},
   "cell_type": "markdown",
   "metadata": {},
   "source": [
    "# Model abspeichern"
   ]
  },
  {
   "attachments": {},
   "cell_type": "markdown",
   "metadata": {},
   "source": [
    "# Model ausführen"
   ]
  }
 ],
 "metadata": {
  "kernelspec": {
   "display_name": "ML_Tests",
   "language": "python",
   "name": "python3"
  },
  "language_info": {
   "codemirror_mode": {
    "name": "ipython",
    "version": 3
   },
   "file_extension": ".py",
   "mimetype": "text/x-python",
   "name": "python",
   "nbconvert_exporter": "python",
   "pygments_lexer": "ipython3",
   "version": "3.9.16"
  },
  "vscode": {
   "interpreter": {
    "hash": "ebf27b11610268b99513bd4efbe3432472a3ccaad00eb01d8e50e81655a2bd68"
   }
  }
 },
 "nbformat": 4,
 "nbformat_minor": 4
}
